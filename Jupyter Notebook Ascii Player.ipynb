{
 "cells": [
  {
   "cell_type": "code",
   "execution_count": 1,
   "metadata": {},
   "outputs": [],
   "source": [
    "from IPython.display import clear_output\n",
    "import cv2\n",
    "import numpy as np\n",
    "import time\n",
    "\n",
    "from pydub.playback import play\n",
    "from pydub import AudioSegment\n",
    "\n",
    "from threading import Thread"
   ]
  },
  {
   "cell_type": "code",
   "execution_count": 2,
   "metadata": {},
   "outputs": [],
   "source": [
    "print_width = 135\n",
    "video_file = \"C:\\\\Users\\\\Luxus\\\\Downloads\\\\nohitsans.mp4\"\n",
    "reverse_color = False"
   ]
  },
  {
   "cell_type": "code",
   "execution_count": 3,
   "metadata": {},
   "outputs": [],
   "source": [
    "def play_sound(song):\n",
    "    play(song)\n",
    "\n",
    "def play_video(print_width=print_width, video_file=video_file):\n",
    "    cap = cv2.VideoCapture(video_file) \n",
    "    \n",
    "    if cap.isOpened():\n",
    "        \n",
    "        fps = cap.get(cv2.CAP_PROP_FPS)\n",
    "        width = cap.get(cv2.CAP_PROP_FRAME_WIDTH)\n",
    "        height = cap.get(cv2.CAP_PROP_FRAME_HEIGHT)\n",
    "        \n",
    "        delay = (1/fps)*1e9\n",
    "        \n",
    "        scale_shape = (print_width, round(print_width * (height / width) * 0.3))\n",
    "        gray_scale = '$@B%8&WM#*oahkbdpqwmZO0QLCJUYXzcvunxrjft/\\|()1{}[]?-_+~<>i!lI;:,\"^`\\'. '\n",
    "        if reverse_color:\n",
    "            gray_scale = gray_scale[::-1]\n",
    "        img_mul = (len(gray_scale)-1) / 255\n",
    "        \n",
    "        ret, img = cap.read()\n",
    "        prev_nanos = time.time_ns()\n",
    "        while ret:\n",
    "            curr_nanos = time.time_ns()\n",
    "\n",
    "            if (curr_nanos - prev_nanos >= delay):\n",
    "                prev_nanos += delay\n",
    "                \n",
    "                img = cv2.resize(cv2.cvtColor(img,cv2.COLOR_BGR2GRAY), scale_shape)\n",
    "                img = np.round(img * img_mul)\n",
    "                ascii_img = np.full((img.shape[0],img.shape[1]+1),'\\n','str')\n",
    "                for i in range(len(gray_scale)):\n",
    "                    ascii_img[:,:-1][img == i] = gray_scale[i]                \n",
    "                print(''.join(ascii_img.flatten().tolist()))\n",
    "                clear_output(True)\n",
    "\n",
    "                ret, img = cap.read()\n",
    "        \n",
    "    cap.release()\n",
    "    cv2.destroyAllWindows()\n",
    "    \n",
    "def play_total(print_width=print_width, video_file=video_file):\n",
    "    song = AudioSegment.from_file(video_file, \"mp4\")\n",
    "    Thread(target = play_sound, args=(song,)).start()\n",
    "    Thread(target = play_video, args=(print_width, video_file)).start()"
   ]
  },
  {
   "cell_type": "code",
   "execution_count": 4,
   "metadata": {},
   "outputs": [],
   "source": [
    "play_total(print_width, video_file)"
   ]
  },
  {
   "cell_type": "code",
   "execution_count": null,
   "metadata": {},
   "outputs": [],
   "source": []
  },
  {
   "cell_type": "code",
   "execution_count": null,
   "metadata": {},
   "outputs": [],
   "source": []
  }
 ],
 "metadata": {
  "kernelspec": {
   "display_name": "Python 3",
   "language": "python",
   "name": "python3"
  },
  "language_info": {
   "codemirror_mode": {
    "name": "ipython",
    "version": 3
   },
   "file_extension": ".py",
   "mimetype": "text/x-python",
   "name": "python",
   "nbconvert_exporter": "python",
   "pygments_lexer": "ipython3",
   "version": "3.8.5"
  }
 },
 "nbformat": 4,
 "nbformat_minor": 4
}
